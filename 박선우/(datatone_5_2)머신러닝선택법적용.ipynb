{
  "nbformat": 4,
  "nbformat_minor": 0,
  "metadata": {
    "colab": {
      "provenance": [],
      "toc_visible": true
    },
    "kernelspec": {
      "name": "python3",
      "display_name": "Python 3"
    },
    "language_info": {
      "name": "python"
    }
  },
  "cells": [
    {
      "cell_type": "code",
      "execution_count": null,
      "metadata": {
        "id": "t3RJE7QSBgHr"
      },
      "outputs": [],
      "source": []
    },
    {
      "cell_type": "code",
      "source": [
        "%%capture\n",
        "!pip install koreanize-matplotlib\n",
        "import koreanize_matplotlib"
      ],
      "metadata": {
        "id": "PspHtzPHv-Zj"
      },
      "execution_count": 1,
      "outputs": []
    },
    {
      "cell_type": "code",
      "source": [
        "import pandas as pd\n",
        "exchange = pd.read_csv('/content/exchange_final.csv')\n",
        "m2 = pd.read_csv('/content/M2_2000_2024.CSV' , encoding='cp949')"
      ],
      "metadata": {
        "id": "FSgMRf8l5p3G"
      },
      "execution_count": 2,
      "outputs": []
    },
    {
      "cell_type": "code",
      "source": [
        "# 1. 날짜 포맷 맞추기\n",
        "exchange['TIME'] = pd.to_datetime(exchange['TIME']).dt.strftime('%Y-%m')\n",
        "\n",
        "# 2. m2 인코딩해서 불러오기\n",
        "m2 = pd.read_csv('/content/M2_2000_2024.CSV', encoding='cp949')  # 또는 euc-kr\n",
        "\n",
        "# 3. 조인 (왼쪽 기준: exchange 기준으로 붙이기)\n",
        "merged = pd.merge(exchange, m2, on='TIME', how='left')"
      ],
      "metadata": {
        "id": "AAPhFRF_tkbQ"
      },
      "execution_count": 3,
      "outputs": []
    },
    {
      "cell_type": "code",
      "source": [
        "import random\n",
        "import numpy as np\n",
        "import tensorflow as tf\n",
        "import os\n",
        "\n",
        "def set_seed(seed=42):\n",
        "    random.seed(seed)\n",
        "    np.random.seed(seed)\n",
        "    tf.random.set_seed(seed)\n",
        "    os.environ['PYTHONHASHSEED'] = str(seed)"
      ],
      "metadata": {
        "id": "TEh8jqANxsXA"
      },
      "execution_count": 4,
      "outputs": []
    },
    {
      "cell_type": "code",
      "source": [
        "# 유의미한 변수\n",
        "features = ['경제 심리 지수', '한국 외환 보유액', 'vix', 'WTI 유가', '한국 실업률', '두바이 유가',\n",
        "                        'Brent 유가', '천연가스 가격', '유연탄 가격', '미국 주가지수',\n",
        "                        '한국 인플레이션율', '인플레이션 격차', '실질GDP성장률','M2',\n",
        "                        '금 가격', '구리 가격', '아연 가격', '알루미늄 가격', '니켈 가격',\n",
        "                        '외국인 투자 금액']"
      ],
      "metadata": {
        "id": "wxuNRqbWBpJY"
      },
      "execution_count": 5,
      "outputs": []
    },
    {
      "cell_type": "code",
      "source": [
        "target = ['원/달러환율']"
      ],
      "metadata": {
        "id": "2w5E_ucbBqPb"
      },
      "execution_count": 6,
      "outputs": []
    },
    {
      "cell_type": "code",
      "source": [
        "# 모델링/통계\n",
        "from sklearn.linear_model import LinearRegression\n",
        "from sklearn.feature_selection import SequentialFeatureSelector\n",
        "from mlxtend.feature_selection import SequentialFeatureSelector as SFS\n",
        "import pandas as pd\n",
        "import numpy as np"
      ],
      "metadata": {
        "id": "xcX7CHuNFdip"
      },
      "execution_count": 20,
      "outputs": []
    },
    {
      "cell_type": "code",
      "source": [
        "merged.info()"
      ],
      "metadata": {
        "colab": {
          "base_uri": "https://localhost:8080/"
        },
        "id": "n1aCxn0nImtQ",
        "outputId": "8ced3db7-ee69-48db-b094-6ec97264487a"
      },
      "execution_count": 29,
      "outputs": [
        {
          "output_type": "stream",
          "name": "stdout",
          "text": [
            "<class 'pandas.core.frame.DataFrame'>\n",
            "RangeIndex: 300 entries, 0 to 299\n",
            "Data columns (total 77 columns):\n",
            " #   Column         Non-Null Count  Dtype  \n",
            "---  ------         --------------  -----  \n",
            " 0   Unnamed: 0     300 non-null    int64  \n",
            " 1   TIME           300 non-null    object \n",
            " 2   원/달러환율         300 non-null    float64\n",
            " 3   한국 장기 시장 금리    291 non-null    float64\n",
            " 4   미국 장기 시장 금리    300 non-null    float64\n",
            " 5   중국 장기 시장 금리    132 non-null    float64\n",
            " 6   한국 단기 시장 금리    300 non-null    float64\n",
            " 7   미국 단기 시장 금리    299 non-null    float64\n",
            " 8   중국 단기 시장 금리    299 non-null    float64\n",
            " 9   전체 수출 총액       300 non-null    int64  \n",
            " 10  미국 수출 총액       300 non-null    int64  \n",
            " 11  중국 수출 총액       300 non-null    int64  \n",
            " 12  전체 수입 총액       300 non-null    int64  \n",
            " 13  미국 수입 총액       300 non-null    int64  \n",
            " 14  중국 수입 총액       300 non-null    int64  \n",
            " 15  소득 교역 조건 지수    300 non-null    float64\n",
            " 16  해외 직접 투자 금액    300 non-null    int64  \n",
            " 17  경제 심리 지수       264 non-null    float64\n",
            " 18  한국 기준 금리       300 non-null    float64\n",
            " 19  미국 기준 금리       300 non-null    float64\n",
            " 20  중국 기준 금리       300 non-null    float64\n",
            " 21  한국 소비자 물가지수    300 non-null    float64\n",
            " 22  미국 소비자 물가지수    300 non-null    float64\n",
            " 23  중국 소비자 물가지수    300 non-null    float64\n",
            " 24  한국 외환 보유액      240 non-null    float64\n",
            " 25  미국 외환 보유액      280 non-null    float64\n",
            " 26  중국 외환 보유액      115 non-null    float64\n",
            " 27  한국 산업 생산 지수    300 non-null    float64\n",
            " 28  미국 산업 생산 지수    300 non-null    float64\n",
            " 29  한국 실업률         300 non-null    float64\n",
            " 30  미국 실업률         300 non-null    float64\n",
            " 31  한국 주가지수        300 non-null    float64\n",
            " 32  미국 주가지수        300 non-null    float64\n",
            " 33  중국 주가지수        300 non-null    float64\n",
            " 34  WTI 유가         300 non-null    float64\n",
            " 35  두바이 유가         300 non-null    float64\n",
            " 36  Brent 유가       300 non-null    float64\n",
            " 37  천연가스 가격        300 non-null    float64\n",
            " 38  유연탄 가격         300 non-null    float64\n",
            " 39  철광석 가격         300 non-null    float64\n",
            " 40  구리 가격          300 non-null    float64\n",
            " 41  알루미늄 가격        300 non-null    float64\n",
            " 42  니켈 가격          300 non-null    float64\n",
            " 43  아연 가격          300 non-null    float64\n",
            " 44  금 가격           300 non-null    float64\n",
            " 45  대두 가격          300 non-null    float64\n",
            " 46  옥수수 가격         300 non-null    float64\n",
            " 47  소맥 가격          300 non-null    float64\n",
            " 48  원당 가격          300 non-null    float64\n",
            " 49  원면 가격          300 non-null    float64\n",
            " 50  외국인 투자 금액      298 non-null    float64\n",
            " 51  한국 경상수지        298 non-null    float64\n",
            " 52  미국 경상수지        298 non-null    float64\n",
            " 53  중국 경상수지        238 non-null    float64\n",
            " 54  한국 상품수지        298 non-null    float64\n",
            " 55  미국 상품수지        298 non-null    float64\n",
            " 56  중국 상품수지        238 non-null    float64\n",
            " 57  한국 경제성장률       298 non-null    float64\n",
            " 58  미국 경제성장률       298 non-null    float64\n",
            " 59  중국 경제성장률       166 non-null    float64\n",
            " 60  한국 GDP         289 non-null    float64\n",
            " 61  미국 GDP         289 non-null    float64\n",
            " 62  중국 GDP         289 non-null    float64\n",
            " 63  한국 GDP 디플레이터   289 non-null    float64\n",
            " 64  한국 중앙정부 부채 비율  133 non-null    float64\n",
            " 65  미국 중앙정부 부채 비율  277 non-null    float64\n",
            " 66  한국 10년 채권수익률   290 non-null    float64\n",
            " 67  미국 10년 채권수익률   290 non-null    float64\n",
            " 68  한국 인플레이션율      288 non-null    float64\n",
            " 69  미국 인플레이션율      288 non-null    float64\n",
            " 70  인플레이션 격차       288 non-null    float64\n",
            " 71  실질GDP          289 non-null    float64\n",
            " 72  실질GDP성장률       288 non-null    float64\n",
            " 73  vix            300 non-null    float64\n",
            " 74  M2             300 non-null    float64\n",
            " 75  증가율            300 non-null    float64\n",
            " 76  원/달러환율_t+1     299 non-null    float64\n",
            "dtypes: float64(68), int64(8), object(1)\n",
            "memory usage: 180.6+ KB\n"
          ]
        }
      ]
    },
    {
      "cell_type": "markdown",
      "source": [
        "## 피처 선택 결과 다름"
      ],
      "metadata": {
        "id": "ZSYrlUpgHKzR"
      }
    },
    {
      "cell_type": "code",
      "source": [
        "def feature_selection_and_evaluation(method_name, selector, is_mlxtend=False):\n",
        "    import numpy as np\n",
        "\n",
        "    all_features = ['경제 심리 지수', '한국 외환 보유액', 'vix', 'WTI 유가', '한국 실업률',\n",
        "                    '두바이 유가', 'Brent 유가', '천연가스 가격', '유연탄 가격', '미국 주가지수',\n",
        "                    '한국 인플레이션율', '인플레이션 격차', '실질GDP성장률','M2',\n",
        "                    '금 가격', '구리 가격', '아연 가격', '알루미늄 가격', '니켈 가격',\n",
        "                    '외국인 투자 금액']\n",
        "\n",
        "    df = merged.dropna(subset=all_features + ['원/달러환율'])\n",
        "    X = df[all_features]\n",
        "    y = df['원/달러환율']\n",
        "\n",
        "    if is_mlxtend:\n",
        "        selector.fit(X.values, y.values)\n",
        "        selected_features = [all_features[i] for i in selector.k_feature_idx_]\n",
        "    else:\n",
        "        selector.fit(X, y)\n",
        "        selected_features = list(X.columns[selector.get_support()])\n",
        "\n",
        "    print(f\"\\n[{method_name}] 선택된 features: {selected_features}\")\n",
        "    return selected_features"
      ],
      "metadata": {
        "id": "CcB8SrtCFZ_0"
      },
      "execution_count": 23,
      "outputs": []
    },
    {
      "cell_type": "code",
      "source": [
        "# 전진 선택법\n",
        "selector_forward = SequentialFeatureSelector(LinearRegression(), n_features_to_select='auto', direction='forward')\n",
        "features_forward = feature_selection_and_evaluation(\"전진 선택법\", selector_forward, is_mlxtend=False)\n",
        "\n",
        "# 후진 선택법\n",
        "selector_backward = SequentialFeatureSelector(LinearRegression(), n_features_to_select='auto', direction='backward')\n",
        "features_backward = feature_selection_and_evaluation(\"후진 선택법\", selector_backward, is_mlxtend=False)\n",
        "\n",
        "# 단계적 선택법 (Stepwise - mlxtend)\n",
        "selector_stepwise = SFS(\n",
        "    LinearRegression(),\n",
        "    k_features='best',\n",
        "    forward=True,\n",
        "    floating=True,\n",
        "    scoring='r2',\n",
        "    cv=0\n",
        ")\n",
        "features_stepwise = feature_selection_and_evaluation(\"단계적 선택법\", selector_stepwise, is_mlxtend=True)"
      ],
      "metadata": {
        "colab": {
          "base_uri": "https://localhost:8080/"
        },
        "id": "i8ZhA3kqEud6",
        "outputId": "81447817-d49e-4f7f-d30e-96a1999ddf5a"
      },
      "execution_count": 24,
      "outputs": [
        {
          "output_type": "stream",
          "name": "stdout",
          "text": [
            "\n",
            "[전진 선택법] 선택된 features: ['두바이 유가', 'Brent 유가', '유연탄 가격', '한국 인플레이션율', '인플레이션 격차', '실질GDP성장률', 'M2', '금 가격', '아연 가격', '외국인 투자 금액']\n",
            "\n",
            "[후진 선택법] 선택된 features: ['한국 외환 보유액', 'WTI 유가', '두바이 유가', 'Brent 유가', '천연가스 가격', '유연탄 가격', '미국 주가지수', 'M2', '아연 가격', '니켈 가격']\n",
            "\n",
            "[단계적 선택법] 선택된 features: ['경제 심리 지수', '한국 외환 보유액', 'vix', 'WTI 유가', '한국 실업률', '두바이 유가', 'Brent 유가', '천연가스 가격', '유연탄 가격', '미국 주가지수', '한국 인플레이션율', '인플레이션 격차', '실질GDP성장률', 'M2', '금 가격', '구리 가격', '아연 가격', '알루미늄 가격', '니켈 가격', '외국인 투자 금액']\n"
          ]
        }
      ]
    },
    {
      "cell_type": "markdown",
      "source": [
        "# 피처"
      ],
      "metadata": {
        "id": "PqwHuf7ZHNG7"
      }
    },
    {
      "cell_type": "markdown",
      "source": [
        "### 유의미한 피처 중 선택법 적용"
      ],
      "metadata": {
        "id": "cyCVDeBbHgpc"
      }
    },
    {
      "cell_type": "code",
      "source": [
        "from sklearn.preprocessing import MinMaxScaler\n",
        "from sklearn.metrics import mean_squared_error, mean_absolute_error, r2_score\n",
        "from tensorflow.keras.models import Sequential\n",
        "from tensorflow.keras.layers import GRU, Dense, Dropout\n",
        "from tensorflow.keras.callbacks import EarlyStopping\n",
        "import numpy as np\n",
        "import pandas as pd\n",
        "\n",
        "# 선택된 피처 리스트\n",
        "feature_sets = {\n",
        "    \"전진 선택법\": [\n",
        "        'vix', '한국 실업률', '두바이 유가', 'Brent 유가', '천연가스 가격',\n",
        "        '미국 주가지수', '인플레이션 격차', 'M2', '금 가격', '니켈 가격'\n",
        "    ],\n",
        "    \"후진 선택법\": [\n",
        "        '한국 실업률', '두바이 유가', 'Brent 유가', '유연탄 가격',\n",
        "        '미국 주가지수', '인플레이션 격차', '실질GDP성장률', 'M2', '금 가격', '구리 가격'\n",
        "    ],\n",
        "    \"단계적 선택법\": [\n",
        "        '경제 심리 지수', '한국 외환 보유액', 'vix', 'WTI 유가', '한국 실업률',\n",
        "        '두바이 유가', 'Brent 유가', '천연가스 가격', '유연탄 가격', '미국 주가지수',\n",
        "        '한국 인플레이션율', '인플레이션 격차', '실질GDP성장률', 'M2', '금 가격',\n",
        "        '구리 가격', '아연 가격', '알루미늄 가격', '니켈 가격', '외국인 투자 금액'\n",
        "    ]\n",
        "}\n",
        "\n",
        "# 시퀀스 생성 함수\n",
        "def create_sequences(X, y, look_back=12):\n",
        "    X_seq, y_seq = [], []\n",
        "    for i in range(len(X) - look_back):\n",
        "        X_seq.append(X[i:i+look_back])\n",
        "        y_seq.append(y[i+look_back])\n",
        "    return np.array(X_seq), np.array(y_seq)\n",
        "\n",
        "# 성능 저장용 리스트\n",
        "results = []\n",
        "\n",
        "# 반복 실행\n",
        "for method, features in feature_sets.items():\n",
        "    df = merged.dropna(subset=features + ['원/달러환율'])\n",
        "    X = df[features].values\n",
        "    y = df[['원/달러환율']].values\n",
        "\n",
        "    X_seq, y_seq = create_sequences(X, y, look_back=12)\n",
        "\n",
        "    train_size = int(len(X_seq) * 0.8)\n",
        "    X_train, X_test = X_seq[:train_size], X_seq[train_size:]\n",
        "    y_train, y_test = y_seq[:train_size], y_seq[train_size:]\n",
        "\n",
        "    scaler_x = MinMaxScaler()\n",
        "    scaler_y = MinMaxScaler()\n",
        "\n",
        "    X_train_2d = X_train.reshape(-1, X_train.shape[2])\n",
        "    X_test_2d = X_test.reshape(-1, X_test.shape[2])\n",
        "\n",
        "    X_train_scaled = scaler_x.fit_transform(X_train_2d).reshape(X_train.shape)\n",
        "    X_test_scaled = scaler_x.transform(X_test_2d).reshape(X_test.shape)\n",
        "\n",
        "    y_train_scaled = scaler_y.fit_transform(y_train)\n",
        "    y_test_scaled = scaler_y.transform(y_test)\n",
        "\n",
        "    model = Sequential([\n",
        "        GRU(16, input_shape=(X_train.shape[1], X_train.shape[2])),\n",
        "        Dropout(0.2),\n",
        "        Dense(1)\n",
        "    ])\n",
        "    model.compile(optimizer='adam', loss='mse')\n",
        "    model.fit(X_train_scaled, y_train_scaled,\n",
        "              validation_data=(X_test_scaled, y_test_scaled),\n",
        "              epochs=100, batch_size=16,\n",
        "              callbacks=[EarlyStopping(monitor='val_loss', patience=10, restore_best_weights=True)],\n",
        "              verbose=0)\n",
        "\n",
        "    y_train_pred = scaler_y.inverse_transform(model.predict(X_train_scaled))\n",
        "    y_test_pred = scaler_y.inverse_transform(model.predict(X_test_scaled))\n",
        "    y_train_true = scaler_y.inverse_transform(y_train_scaled)\n",
        "    y_test_true = scaler_y.inverse_transform(y_test_scaled)\n",
        "\n",
        "    results.append({\n",
        "        '선택법': method,\n",
        "        'Train RMSE': np.sqrt(mean_squared_error(y_train_true, y_train_pred)),\n",
        "        'Test RMSE': np.sqrt(mean_squared_error(y_test_true, y_test_pred)),\n",
        "        'Train MAE': mean_absolute_error(y_train_true, y_train_pred),\n",
        "        'Test MAE': mean_absolute_error(y_test_true, y_test_pred),\n",
        "        'Train R2': r2_score(y_train_true, y_train_pred),\n",
        "        'Test R2': r2_score(y_test_true, y_test_pred)\n",
        "    })\n",
        "\n",
        "# 결과 출력\n",
        "results_df = pd.DataFrame(results)\n",
        "print(results_df)\n"
      ],
      "metadata": {
        "colab": {
          "base_uri": "https://localhost:8080/"
        },
        "id": "HwBodtkeIB8q",
        "outputId": "6afa9184-9c66-482b-bb90-1cada020a016"
      },
      "execution_count": 27,
      "outputs": [
        {
          "output_type": "stream",
          "name": "stderr",
          "text": [
            "/usr/local/lib/python3.11/dist-packages/keras/src/layers/rnn/rnn.py:200: UserWarning: Do not pass an `input_shape`/`input_dim` argument to a layer. When using Sequential models, prefer using an `Input(shape)` object as the first layer in the model instead.\n",
            "  super().__init__(**kwargs)\n"
          ]
        },
        {
          "output_type": "stream",
          "name": "stdout",
          "text": [
            "\u001b[1m7/7\u001b[0m \u001b[32m━━━━━━━━━━━━━━━━━━━━\u001b[0m\u001b[37m\u001b[0m \u001b[1m1s\u001b[0m 61ms/step\n",
            "\u001b[1m2/2\u001b[0m \u001b[32m━━━━━━━━━━━━━━━━━━━━\u001b[0m\u001b[37m\u001b[0m \u001b[1m0s\u001b[0m 49ms/step\n"
          ]
        },
        {
          "output_type": "stream",
          "name": "stderr",
          "text": [
            "/usr/local/lib/python3.11/dist-packages/keras/src/layers/rnn/rnn.py:200: UserWarning: Do not pass an `input_shape`/`input_dim` argument to a layer. When using Sequential models, prefer using an `Input(shape)` object as the first layer in the model instead.\n",
            "  super().__init__(**kwargs)\n"
          ]
        },
        {
          "output_type": "stream",
          "name": "stdout",
          "text": [
            "\u001b[1m7/7\u001b[0m \u001b[32m━━━━━━━━━━━━━━━━━━━━\u001b[0m\u001b[37m\u001b[0m \u001b[1m0s\u001b[0m 38ms/step\n",
            "\u001b[1m2/2\u001b[0m \u001b[32m━━━━━━━━━━━━━━━━━━━━\u001b[0m\u001b[37m\u001b[0m \u001b[1m0s\u001b[0m 108ms/step\n"
          ]
        },
        {
          "output_type": "stream",
          "name": "stderr",
          "text": [
            "/usr/local/lib/python3.11/dist-packages/keras/src/layers/rnn/rnn.py:200: UserWarning: Do not pass an `input_shape`/`input_dim` argument to a layer. When using Sequential models, prefer using an `Input(shape)` object as the first layer in the model instead.\n",
            "  super().__init__(**kwargs)\n"
          ]
        },
        {
          "output_type": "stream",
          "name": "stdout",
          "text": [
            "\u001b[1m6/6\u001b[0m \u001b[32m━━━━━━━━━━━━━━━━━━━━\u001b[0m\u001b[37m\u001b[0m \u001b[1m0s\u001b[0m 46ms/step\n",
            "\u001b[1m2/2\u001b[0m \u001b[32m━━━━━━━━━━━━━━━━━━━━\u001b[0m\u001b[37m\u001b[0m \u001b[1m0s\u001b[0m 22ms/step\n",
            "       선택법  Train RMSE   Test RMSE   Train MAE    Test MAE  Train R2   Test R2\n",
            "0   전진 선택법  127.654537  157.882358  108.499300  130.405882 -0.640654 -1.780285\n",
            "1   후진 선택법   96.763299  163.762610   77.289017  126.010635  0.057317 -1.991243\n",
            "2  단계적 선택법   44.050401   65.294018   33.832628   50.215450  0.802175  0.464002\n"
          ]
        }
      ]
    },
    {
      "cell_type": "markdown",
      "source": [
        "## 모든 피처에서 선택법 적용"
      ],
      "metadata": {
        "id": "ooRa6hW1JUf9"
      }
    },
    {
      "cell_type": "code",
      "source": [
        "from sklearn.preprocessing import MinMaxScaler\n",
        "from sklearn.metrics import mean_squared_error, mean_absolute_error, r2_score\n",
        "from tensorflow.keras.models import Sequential\n",
        "from tensorflow.keras.layers import GRU, Dense, Dropout\n",
        "from tensorflow.keras.callbacks import EarlyStopping\n",
        "import numpy as np\n",
        "import pandas as pd\n",
        "\n",
        "# 이미지 기반 feature set 구성\n",
        "feature_sets = {\n",
        "    \"전진 선택법\": [\n",
        "        '경제 심리 지수', '한국 실업률', '미국 주가지수', '천연가스 가격',\n",
        "        '알루미늄 가격', '니켈 가격', '한국 인플레이션율', '실질GDP성장률',\n",
        "        'vix', '외국인 투자 금액'\n",
        "    ],\n",
        "    \"후진 선택법\": [\n",
        "        '경제 심리 지수', '두바이 유가', 'Brent 유가', '유연탄 가격',\n",
        "        '구리 가격', '알루미늄 가격', '니켈 가격', '금 가격',\n",
        "        '실질GDP성장률', 'vix'\n",
        "    ],\n",
        "    \"단계적 선택법\": [\n",
        "        '경제 심리 지수', '한국 외환 보유액', 'vix', 'WTI 유가', '한국 실업률',\n",
        "        '두바이 유가', 'Brent 유가', '천연가스 가격', '유연탄 가격', '미국 주가지수',\n",
        "        '한국 인플레이션율', '인플레이션 격차', '실질GDP성장률', 'M2', '금 가격',\n",
        "        '구리 가격', '아연 가격', '알루미늄 가격', '니켈 가격', '외국인 투자 금액', '한국 상품수지'\n",
        "    ]\n",
        "}\n",
        "\n",
        "def create_sequences(X, y, look_back=12):\n",
        "    X_seq, y_seq = [], []\n",
        "    for i in range(len(X) - look_back):\n",
        "        X_seq.append(X[i:i+look_back])\n",
        "        y_seq.append(y[i+look_back])\n",
        "    return np.array(X_seq), np.array(y_seq)\n",
        "\n",
        "results = []\n",
        "\n",
        "for method, features in feature_sets.items():\n",
        "    df = merged.dropna(subset=features + ['원/달러환율'])\n",
        "    X = df[features].values\n",
        "    y = df[['원/달러환율']].values\n",
        "\n",
        "    X_seq, y_seq = create_sequences(X, y, look_back=12)\n",
        "\n",
        "    train_size = int(len(X_seq) * 0.8)\n",
        "    X_train, X_test = X_seq[:train_size], X_seq[train_size:]\n",
        "    y_train, y_test = y_seq[:train_size], y_seq[train_size:]\n",
        "\n",
        "    scaler_x = MinMaxScaler()\n",
        "    scaler_y = MinMaxScaler()\n",
        "\n",
        "    X_train_2d = X_train.reshape(-1, X_train.shape[2])\n",
        "    X_test_2d = X_test.reshape(-1, X_test.shape[2])\n",
        "\n",
        "    X_train_scaled = scaler_x.fit_transform(X_train_2d).reshape(X_train.shape)\n",
        "    X_test_scaled = scaler_x.transform(X_test_2d).reshape(X_test.shape)\n",
        "\n",
        "    y_train_scaled = scaler_y.fit_transform(y_train)\n",
        "    y_test_scaled = scaler_y.transform(y_test)\n",
        "\n",
        "    model = Sequential([\n",
        "    GRU(64, input_shape=(X_train.shape[1], X_train.shape[2])),\n",
        "    Dropout(0.1),\n",
        "    Dense(1)\n",
        "    ])\n",
        "    model.compile(optimizer='adam', loss='mse')\n",
        "    model.fit(X_train_scaled, y_train_scaled,\n",
        "              validation_data=(X_test_scaled, y_test_scaled),\n",
        "              epochs=100, batch_size=16,\n",
        "              callbacks=[EarlyStopping(monitor='val_loss', patience=10, restore_best_weights=True)],\n",
        "              verbose=0)\n",
        "\n",
        "    y_train_pred = scaler_y.inverse_transform(model.predict(X_train_scaled))\n",
        "    y_test_pred = scaler_y.inverse_transform(model.predict(X_test_scaled))\n",
        "    y_train_true = scaler_y.inverse_transform(y_train_scaled)\n",
        "    y_test_true = scaler_y.inverse_transform(y_test_scaled)\n",
        "\n",
        "    results.append({\n",
        "        '선택법': method,\n",
        "        'Train RMSE': np.sqrt(mean_squared_error(y_train_true, y_train_pred)),\n",
        "        'Test RMSE': np.sqrt(mean_squared_error(y_test_true, y_test_pred)),\n",
        "        'Train MAE': mean_absolute_error(y_train_true, y_train_pred),\n",
        "        'Test MAE': mean_absolute_error(y_test_true, y_test_pred),\n",
        "        'Train R2': r2_score(y_train_true, y_train_pred),\n",
        "        'Test R2': r2_score(y_test_true, y_test_pred)\n",
        "    })\n",
        "\n",
        "results_df = pd.DataFrame(results)\n",
        "print(results_df)\n"
      ],
      "metadata": {
        "colab": {
          "base_uri": "https://localhost:8080/"
        },
        "id": "M8ooQu4IJa4O",
        "outputId": "8a7e46a6-fe7d-4515-fcf3-e7a8ca34942e"
      },
      "execution_count": 31,
      "outputs": [
        {
          "output_type": "stream",
          "name": "stderr",
          "text": [
            "/usr/local/lib/python3.11/dist-packages/keras/src/layers/rnn/rnn.py:200: UserWarning: Do not pass an `input_shape`/`input_dim` argument to a layer. When using Sequential models, prefer using an `Input(shape)` object as the first layer in the model instead.\n",
            "  super().__init__(**kwargs)\n"
          ]
        },
        {
          "output_type": "stream",
          "name": "stdout",
          "text": [
            "\u001b[1m7/7\u001b[0m \u001b[32m━━━━━━━━━━━━━━━━━━━━\u001b[0m\u001b[37m\u001b[0m \u001b[1m0s\u001b[0m 42ms/step\n",
            "\u001b[1m2/2\u001b[0m \u001b[32m━━━━━━━━━━━━━━━━━━━━\u001b[0m\u001b[37m\u001b[0m \u001b[1m0s\u001b[0m 21ms/step\n"
          ]
        },
        {
          "output_type": "stream",
          "name": "stderr",
          "text": [
            "/usr/local/lib/python3.11/dist-packages/keras/src/layers/rnn/rnn.py:200: UserWarning: Do not pass an `input_shape`/`input_dim` argument to a layer. When using Sequential models, prefer using an `Input(shape)` object as the first layer in the model instead.\n",
            "  super().__init__(**kwargs)\n"
          ]
        },
        {
          "output_type": "stream",
          "name": "stdout",
          "text": [
            "\u001b[1m7/7\u001b[0m \u001b[32m━━━━━━━━━━━━━━━━━━━━\u001b[0m\u001b[37m\u001b[0m \u001b[1m0s\u001b[0m 38ms/step\n",
            "\u001b[1m2/2\u001b[0m \u001b[32m━━━━━━━━━━━━━━━━━━━━\u001b[0m\u001b[37m\u001b[0m \u001b[1m0s\u001b[0m 22ms/step\n"
          ]
        },
        {
          "output_type": "stream",
          "name": "stderr",
          "text": [
            "/usr/local/lib/python3.11/dist-packages/keras/src/layers/rnn/rnn.py:200: UserWarning: Do not pass an `input_shape`/`input_dim` argument to a layer. When using Sequential models, prefer using an `Input(shape)` object as the first layer in the model instead.\n",
            "  super().__init__(**kwargs)\n"
          ]
        },
        {
          "output_type": "stream",
          "name": "stdout",
          "text": [
            "\u001b[1m6/6\u001b[0m \u001b[32m━━━━━━━━━━━━━━━━━━━━\u001b[0m\u001b[37m\u001b[0m \u001b[1m1s\u001b[0m 66ms/step\n",
            "\u001b[1m2/2\u001b[0m \u001b[32m━━━━━━━━━━━━━━━━━━━━\u001b[0m\u001b[37m\u001b[0m \u001b[1m0s\u001b[0m 32ms/step\n",
            "       선택법  Train RMSE   Test RMSE  Train MAE    Test MAE  Train R2   Test R2\n",
            "0   전진 선택법  104.482172   89.127601  73.932078   76.358637 -0.160775  0.097415\n",
            "1   후진 선택법   81.789952   92.527863  68.291285   77.774777  0.286969  0.090223\n",
            "2  단계적 선택법  109.315741  164.849717  85.277865  138.148776 -0.218277 -2.416591\n"
          ]
        }
      ]
    }
  ]
}