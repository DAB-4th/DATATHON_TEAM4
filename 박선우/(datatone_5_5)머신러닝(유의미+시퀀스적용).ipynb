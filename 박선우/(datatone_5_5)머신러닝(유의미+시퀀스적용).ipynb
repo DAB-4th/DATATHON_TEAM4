{
  "nbformat": 4,
  "nbformat_minor": 0,
  "metadata": {
    "colab": {
      "provenance": []
    },
    "kernelspec": {
      "name": "python3",
      "display_name": "Python 3"
    },
    "language_info": {
      "name": "python"
    }
  },
  "cells": [
    {
      "cell_type": "code",
      "source": [
        "%%capture\n",
        "!pip install koreanize-matplotlib\n",
        "import koreanize_matplotlib"
      ],
      "metadata": {
        "id": "PspHtzPHv-Zj"
      },
      "execution_count": 1,
      "outputs": []
    },
    {
      "cell_type": "code",
      "source": [
        "import pandas as pd\n",
        "exchange = pd.read_csv('/content/exchange_final.csv')\n",
        "m2 = pd.read_csv('/content/M2_2000_2024.CSV' , encoding='cp949')"
      ],
      "metadata": {
        "id": "FSgMRf8l5p3G"
      },
      "execution_count": 4,
      "outputs": []
    },
    {
      "cell_type": "code",
      "source": [
        "# 1. 날짜 포맷 맞추기\n",
        "exchange['TIME'] = pd.to_datetime(exchange['TIME']).dt.strftime('%Y-%m')\n",
        "\n",
        "# 2. m2 인코딩해서 불러오기\n",
        "m2 = pd.read_csv('/content/M2_2000_2024.CSV', encoding='cp949')  # 또는 euc-kr\n",
        "\n",
        "# 3. 조인 (왼쪽 기준: exchange 기준으로 붙이기)\n",
        "df = pd.merge(exchange, m2, on='TIME', how='left')"
      ],
      "metadata": {
        "id": "AAPhFRF_tkbQ"
      },
      "execution_count": 5,
      "outputs": []
    },
    {
      "cell_type": "code",
      "source": [
        "import random\n",
        "import numpy as np\n",
        "import tensorflow as tf\n",
        "import os\n",
        "\n",
        "def set_seed(seed=42):\n",
        "    random.seed(seed)\n",
        "    np.random.seed(seed)\n",
        "    tf.random.set_seed(seed)\n",
        "    os.environ['PYTHONHASHSEED'] = str(seed)"
      ],
      "metadata": {
        "id": "TEh8jqANxsXA"
      },
      "execution_count": 6,
      "outputs": []
    },
    {
      "cell_type": "code",
      "source": [
        "# 변수 정의\n",
        "features = ['경제 심리 지수', '한국 외환 보유액', 'vix', 'WTI 유가', '한국 실업률', '두바이 유가',\n",
        "                        'Brent 유가', '천연가스 가격', '유연탄 가격', '미국 주가지수',\n",
        "                        '한국 인플레이션율', '인플레이션 격차', '실질GDP성장률','M2',\n",
        "                        '금 가격', '구리 가격', '아연 가격', '알루미늄 가격', '니켈 가격',\n",
        "                        '외국인 투자 금액']"
      ],
      "metadata": {
        "id": "c1qhDagI5Tep"
      },
      "execution_count": 7,
      "outputs": []
    },
    {
      "cell_type": "code",
      "source": [
        "target = ['원/달러환율']"
      ],
      "metadata": {
        "id": "UQmrnIggNOdx"
      },
      "execution_count": 8,
      "outputs": []
    },
    {
      "cell_type": "code",
      "source": [
        "df_filled = df.interpolate(method='linear')\n",
        "df_filled = df_filled.fillna(method='ffill').fillna(method='bfill')"
      ],
      "metadata": {
        "colab": {
          "base_uri": "https://localhost:8080/"
        },
        "id": "U2YwKJGGOVeW",
        "outputId": "4b20a50c-d9fc-4cbf-d1a2-7114125686fe"
      },
      "execution_count": 11,
      "outputs": [
        {
          "output_type": "stream",
          "name": "stderr",
          "text": [
            "<ipython-input-11-76dd81b09891>:1: FutureWarning: DataFrame.interpolate with object dtype is deprecated and will raise in a future version. Call obj.infer_objects(copy=False) before interpolating instead.\n",
            "  df_filled = df.interpolate(method='linear')\n",
            "<ipython-input-11-76dd81b09891>:2: FutureWarning: DataFrame.fillna with 'method' is deprecated and will raise in a future version. Use obj.ffill() or obj.bfill() instead.\n",
            "  df_filled = df_filled.fillna(method='ffill').fillna(method='bfill')\n"
          ]
        }
      ]
    },
    {
      "cell_type": "code",
      "source": [
        "def create_sequences(X, y, n_steps):\n",
        "    X_seq, y_seq = [], []\n",
        "    for i in range(len(X) - n_steps):\n",
        "        X_seq.append(X[i:i+n_steps])\n",
        "        y_seq.append(y[i+n_steps])  # 타깃은 n_steps 뒤\n",
        "    return np.array(X_seq), np.array(y_seq)"
      ],
      "metadata": {
        "id": "mAgnDOCMNVAg"
      },
      "execution_count": 9,
      "outputs": []
    },
    {
      "cell_type": "markdown",
      "source": [
        "결측치 처리 + VIF 검사"
      ],
      "metadata": {
        "id": "VjBm-FyiPIJ5"
      }
    },
    {
      "cell_type": "code",
      "source": [
        "import pandas as pd\n",
        "from statsmodels.stats.outliers_influence import variance_inflation_factor\n",
        "\n",
        "# 결측치 처리 (보간 + ffill + bfill)\n",
        "df_filled = df.interpolate(method='linear')\n",
        "df_filled = df_filled.fillna(method='ffill').fillna(method='bfill')\n",
        "\n",
        "# VIF 계산 함수\n",
        "def calculate_vif(df, thresh=20.0):\n",
        "    variables = df.columns.tolist()\n",
        "    while True:\n",
        "        vif = pd.Series(\n",
        "            [variance_inflation_factor(df[variables].values, i) for i in range(len(variables))],\n",
        "            index=variables\n",
        "        )\n",
        "        max_vif = vif.max()\n",
        "        if max_vif > thresh:\n",
        "            drop_feature = vif.idxmax()\n",
        "            print(f\"❌ Removing '{drop_feature}' with VIF={max_vif:.2f}\")\n",
        "            variables.remove(drop_feature)\n",
        "        else:\n",
        "            break\n",
        "    return df[variables]\n",
        "\n",
        "# VIF 필터링\n",
        "X_vif = calculate_vif(df_filled[features])"
      ],
      "metadata": {
        "colab": {
          "base_uri": "https://localhost:8080/"
        },
        "id": "Yc-cgxlzPJpN",
        "outputId": "182f0565-99a7-40be-ee1b-977bea324902"
      },
      "execution_count": 15,
      "outputs": [
        {
          "output_type": "stream",
          "name": "stderr",
          "text": [
            "<ipython-input-15-a3b358ce2d9e>:5: FutureWarning: DataFrame.interpolate with object dtype is deprecated and will raise in a future version. Call obj.infer_objects(copy=False) before interpolating instead.\n",
            "  df_filled = df.interpolate(method='linear')\n",
            "<ipython-input-15-a3b358ce2d9e>:6: FutureWarning: DataFrame.fillna with 'method' is deprecated and will raise in a future version. Use obj.ffill() or obj.bfill() instead.\n",
            "  df_filled = df_filled.fillna(method='ffill').fillna(method='bfill')\n"
          ]
        },
        {
          "output_type": "stream",
          "name": "stdout",
          "text": [
            "❌ Removing 'Brent 유가' with VIF=3259.78\n",
            "❌ Removing 'WTI 유가' with VIF=504.36\n",
            "❌ Removing 'M2' with VIF=393.74\n",
            "❌ Removing '알루미늄 가격' with VIF=304.36\n",
            "❌ Removing '한국 외환 보유액' with VIF=220.92\n",
            "❌ Removing '경제 심리 지수' with VIF=152.08\n",
            "❌ Removing '구리 가격' with VIF=142.76\n",
            "❌ Removing '미국 주가지수' with VIF=84.02\n",
            "❌ Removing '아연 가격' with VIF=37.42\n",
            "❌ Removing '금 가격' with VIF=29.76\n",
            "❌ Removing '한국 실업률' with VIF=23.58\n"
          ]
        }
      ]
    },
    {
      "cell_type": "markdown",
      "source": [
        "피처 선택법 3가지 적용"
      ],
      "metadata": {
        "id": "PsGkPZ-2POX0"
      }
    },
    {
      "cell_type": "code",
      "source": [
        "from sklearn.linear_model import LinearRegression\n",
        "from sklearn.feature_selection import SequentialFeatureSelector\n",
        "from mlxtend.feature_selection import SequentialFeatureSelector as SFS\n",
        "from sklearn.model_selection import train_test_split\n",
        "\n",
        "# 타깃 준비\n",
        "y = df_filled[target].values.flatten()\n",
        "\n",
        "# 피처 준비\n",
        "X_for_select = X_vif.copy()\n",
        "\n",
        "# 임시 분할 (선택법용)\n",
        "X_train_sel, _, y_train_sel, _ = train_test_split(X_for_select, y, test_size=0.2, shuffle=False)\n",
        "model = LinearRegression()\n",
        "\n",
        "# 전진 선택\n",
        "sfs_forward = SequentialFeatureSelector(model, direction='forward', cv=5, scoring='neg_mean_squared_error')\n",
        "sfs_forward.fit(X_train_sel, y_train_sel)\n",
        "selected_forward_features = X_for_select.columns[sfs_forward.get_support()].tolist()\n",
        "\n",
        "# 후진 제거\n",
        "sfs_backward = SequentialFeatureSelector(model, direction='backward', cv=5, scoring='neg_mean_squared_error')\n",
        "sfs_backward.fit(X_train_sel, y_train_sel)\n",
        "selected_backward_features = X_for_select.columns[sfs_backward.get_support()].tolist()\n",
        "\n",
        "# 단계 선택 (SFFS 방식)\n",
        "sfs_stepwise = SFS(model, k_features='best', forward=True, floating=True, scoring='neg_mean_squared_error', cv=5)\n",
        "sfs_stepwise.fit(X_train_sel, y_train_sel)\n",
        "selected_stepwise_features = list(sfs_stepwise.k_feature_names_)"
      ],
      "metadata": {
        "id": "w3qIndZTPMp7"
      },
      "execution_count": 16,
      "outputs": []
    },
    {
      "cell_type": "code",
      "source": [
        "from sklearn.preprocessing import MinMaxScaler\n",
        "from tensorflow.keras.models import Sequential\n",
        "from tensorflow.keras.layers import GRU, Dense\n",
        "from tensorflow.keras.callbacks import EarlyStopping\n",
        "from sklearn.metrics import mean_squared_error, mean_absolute_error, r2_score\n",
        "\n",
        "def run_gru_with_selected_features(name, selected_features, df, target_col='원/달러환율', n_steps=12):\n",
        "    print(f\"\\n🔷 [START] GRU for: {name.upper()} Features\")\n",
        "\n",
        "    # 1. 입력/타깃 설정\n",
        "    X_raw = df[selected_features].values\n",
        "    y_raw = df[[target_col]].values  # shape: (n, 1)\n",
        "\n",
        "    # 2. 시퀀스 생성\n",
        "    X_seq, y_seq = create_sequences(X_raw, y_raw, n_steps)\n",
        "\n",
        "    # 3. 시계열 기반 분할\n",
        "    split_index = int(len(X_seq) * 0.8)\n",
        "    X_train, X_test = X_seq[:split_index], X_seq[split_index:]\n",
        "    y_train, y_test = y_seq[:split_index], y_seq[split_index:]\n",
        "\n",
        "    # 4. 정규화 (X)\n",
        "    scaler_x = MinMaxScaler()\n",
        "    X_train_2d = X_train.reshape(-1, X_train.shape[2])\n",
        "    X_test_2d = X_test.reshape(-1, X_test.shape[2])\n",
        "\n",
        "    X_train_scaled = scaler_x.fit_transform(X_train_2d).reshape(X_train.shape)\n",
        "    X_test_scaled = scaler_x.transform(X_test_2d).reshape(X_test.shape)\n",
        "\n",
        "    # 5. 정규화 (y)\n",
        "    scaler_y = MinMaxScaler()\n",
        "    y_train_scaled = scaler_y.fit_transform(y_train)\n",
        "    y_test_scaled = scaler_y.transform(y_test)\n",
        "\n",
        "    # 6. GRU 모델 구성\n",
        "    model = Sequential([\n",
        "        GRU(64, input_shape=(n_steps, X_train.shape[2])),\n",
        "        Dense(1)\n",
        "    ])\n",
        "    model.compile(optimizer='adam', loss='mse', metrics=['mae'])\n",
        "\n",
        "    early_stop = EarlyStopping(monitor='val_loss', patience=10, restore_best_weights=True)\n",
        "\n",
        "    model.fit(\n",
        "        X_train_scaled, y_train_scaled,\n",
        "        validation_split=0.2,\n",
        "        epochs=100,\n",
        "        batch_size=16,\n",
        "        callbacks=[early_stop],\n",
        "        verbose=0\n",
        "    )\n",
        "\n",
        "    # 7. 예측 및 역변환\n",
        "    y_pred_scaled = model.predict(X_test_scaled)\n",
        "    y_pred = scaler_y.inverse_transform(y_pred_scaled)\n",
        "    y_true = scaler_y.inverse_transform(y_test_scaled)\n",
        "\n",
        "    # 8. 평가\n",
        "    mse = mean_squared_error(y_true, y_pred)\n",
        "    rmse = np.sqrt(mse)\n",
        "    mae = mean_absolute_error(y_true, y_pred)\n",
        "    r2 = r2_score(y_true, y_pred)\n",
        "\n",
        "    print(f\"✅ {name.upper()} 결과 | RMSE: {rmse:.4f}, MAE: {mae:.4f}, R²: {r2:.4f}\")\n",
        "    return {'features': selected_features, 'rmse': rmse, 'mae': mae, 'r2': r2}"
      ],
      "metadata": {
        "id": "B3WCoYWbPtdL"
      },
      "execution_count": 19,
      "outputs": []
    },
    {
      "cell_type": "code",
      "source": [
        "results = []\n",
        "\n",
        "results.append(run_gru_with_selected_features('forward', selected_forward_features, df_filled))\n",
        "results.append(run_gru_with_selected_features('backward', selected_backward_features, df_filled))\n",
        "results.append(run_gru_with_selected_features('stepwise', selected_stepwise_features, df_filled))"
      ],
      "metadata": {
        "colab": {
          "base_uri": "https://localhost:8080/"
        },
        "id": "6OOf09l7PwE3",
        "outputId": "4135391b-a535-4a56-b160-0ce6795b8332"
      },
      "execution_count": 20,
      "outputs": [
        {
          "output_type": "stream",
          "name": "stdout",
          "text": [
            "\n",
            "🔷 [START] GRU for: FORWARD Features\n"
          ]
        },
        {
          "output_type": "stream",
          "name": "stderr",
          "text": [
            "/usr/local/lib/python3.11/dist-packages/keras/src/layers/rnn/rnn.py:200: UserWarning: Do not pass an `input_shape`/`input_dim` argument to a layer. When using Sequential models, prefer using an `Input(shape)` object as the first layer in the model instead.\n",
            "  super().__init__(**kwargs)\n",
            "WARNING:tensorflow:5 out of the last 5 calls to <function TensorFlowTrainer.make_predict_function.<locals>.one_step_on_data_distributed at 0x7b022b7de200> triggered tf.function retracing. Tracing is expensive and the excessive number of tracings could be due to (1) creating @tf.function repeatedly in a loop, (2) passing tensors with different shapes, (3) passing Python objects instead of tensors. For (1), please define your @tf.function outside of the loop. For (2), @tf.function has reduce_retracing=True option that can avoid unnecessary retracing. For (3), please refer to https://www.tensorflow.org/guide/function#controlling_retracing and https://www.tensorflow.org/api_docs/python/tf/function for  more details.\n"
          ]
        },
        {
          "output_type": "stream",
          "name": "stdout",
          "text": [
            "\r\u001b[1m1/2\u001b[0m \u001b[32m━━━━━━━━━━\u001b[0m\u001b[37m━━━━━━━━━━\u001b[0m \u001b[1m0s\u001b[0m 210ms/step"
          ]
        },
        {
          "output_type": "stream",
          "name": "stderr",
          "text": [
            "WARNING:tensorflow:6 out of the last 6 calls to <function TensorFlowTrainer.make_predict_function.<locals>.one_step_on_data_distributed at 0x7b022b7de200> triggered tf.function retracing. Tracing is expensive and the excessive number of tracings could be due to (1) creating @tf.function repeatedly in a loop, (2) passing tensors with different shapes, (3) passing Python objects instead of tensors. For (1), please define your @tf.function outside of the loop. For (2), @tf.function has reduce_retracing=True option that can avoid unnecessary retracing. For (3), please refer to https://www.tensorflow.org/guide/function#controlling_retracing and https://www.tensorflow.org/api_docs/python/tf/function for  more details.\n"
          ]
        },
        {
          "output_type": "stream",
          "name": "stdout",
          "text": [
            "\u001b[1m2/2\u001b[0m \u001b[32m━━━━━━━━━━━━━━━━━━━━\u001b[0m\u001b[37m\u001b[0m \u001b[1m0s\u001b[0m 256ms/step\n",
            "✅ FORWARD 결과 | RMSE: 193.2498, MAE: 167.5234, R²: -3.2892\n",
            "\n",
            "🔷 [START] GRU for: BACKWARD Features\n"
          ]
        },
        {
          "output_type": "stream",
          "name": "stderr",
          "text": [
            "/usr/local/lib/python3.11/dist-packages/keras/src/layers/rnn/rnn.py:200: UserWarning: Do not pass an `input_shape`/`input_dim` argument to a layer. When using Sequential models, prefer using an `Input(shape)` object as the first layer in the model instead.\n",
            "  super().__init__(**kwargs)\n"
          ]
        },
        {
          "output_type": "stream",
          "name": "stdout",
          "text": [
            "\u001b[1m2/2\u001b[0m \u001b[32m━━━━━━━━━━━━━━━━━━━━\u001b[0m\u001b[37m\u001b[0m \u001b[1m0s\u001b[0m 221ms/step\n",
            "✅ BACKWARD 결과 | RMSE: 153.0789, MAE: 129.7754, R²: -1.6913\n",
            "\n",
            "🔷 [START] GRU for: STEPWISE Features\n"
          ]
        },
        {
          "output_type": "stream",
          "name": "stderr",
          "text": [
            "/usr/local/lib/python3.11/dist-packages/keras/src/layers/rnn/rnn.py:200: UserWarning: Do not pass an `input_shape`/`input_dim` argument to a layer. When using Sequential models, prefer using an `Input(shape)` object as the first layer in the model instead.\n",
            "  super().__init__(**kwargs)\n"
          ]
        },
        {
          "output_type": "stream",
          "name": "stdout",
          "text": [
            "\u001b[1m2/2\u001b[0m \u001b[32m━━━━━━━━━━━━━━━━━━━━\u001b[0m\u001b[37m\u001b[0m \u001b[1m0s\u001b[0m 218ms/step\n",
            "✅ STEPWISE 결과 | RMSE: 135.9214, MAE: 106.3702, R²: -1.1218\n"
          ]
        }
      ]
    }
  ]
}