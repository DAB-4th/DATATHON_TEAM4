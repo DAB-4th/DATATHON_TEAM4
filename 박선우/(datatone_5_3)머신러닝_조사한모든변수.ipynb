{
  "nbformat": 4,
  "nbformat_minor": 0,
  "metadata": {
    "colab": {
      "provenance": []
    },
    "kernelspec": {
      "name": "python3",
      "display_name": "Python 3"
    },
    "language_info": {
      "name": "python"
    }
  },
  "cells": [
    {
      "cell_type": "code",
      "source": [
        "%%capture\n",
        "!pip install koreanize-matplotlib\n",
        "import koreanize_matplotlib"
      ],
      "metadata": {
        "id": "PspHtzPHv-Zj"
      },
      "execution_count": 1,
      "outputs": []
    },
    {
      "cell_type": "code",
      "source": [
        "import pandas as pd\n",
        "exchange = pd.read_csv('/content/exchange_final.csv')\n",
        "m2 = pd.read_csv('/content/M2_2000_2024.CSV' , encoding='cp949')"
      ],
      "metadata": {
        "id": "FSgMRf8l5p3G"
      },
      "execution_count": 2,
      "outputs": []
    },
    {
      "cell_type": "code",
      "source": [
        "# 1. 날짜 포맷 맞추기\n",
        "exchange['TIME'] = pd.to_datetime(exchange['TIME']).dt.strftime('%Y-%m')\n",
        "\n",
        "# 2. m2 인코딩해서 불러오기\n",
        "m2 = pd.read_csv('/content/M2_2000_2024.CSV', encoding='cp949')  # 또는 euc-kr\n",
        "\n",
        "# 3. 조인 (왼쪽 기준: exchange 기준으로 붙이기)\n",
        "df = pd.merge(exchange, m2, on='TIME', how='left')"
      ],
      "metadata": {
        "id": "AAPhFRF_tkbQ"
      },
      "execution_count": 3,
      "outputs": []
    },
    {
      "cell_type": "code",
      "source": [
        "import random\n",
        "import numpy as np\n",
        "import tensorflow as tf\n",
        "import os\n",
        "\n",
        "def set_seed(seed=42):\n",
        "    random.seed(seed)\n",
        "    np.random.seed(seed)\n",
        "    tf.random.set_seed(seed)\n",
        "    os.environ['PYTHONHASHSEED'] = str(seed)"
      ],
      "metadata": {
        "id": "TEh8jqANxsXA"
      },
      "execution_count": 4,
      "outputs": []
    },
    {
      "cell_type": "markdown",
      "source": [
        "- 조사한 모든 변수"
      ],
      "metadata": {
        "id": "HJMtH3UJ5SXj"
      }
    },
    {
      "cell_type": "code",
      "source": [
        "# 변수 정의\n",
        "features = ['경제 심리 지수', '한국 기준 금리', '미국 기준 금리', '한국 외환 보유액',\n",
        "            '한국 실업률', '미국 실업률', '한국 주가지수', '미국 주가지수', 'WTI 유가', '두바이 유가',\n",
        "            'Brent 유가', '천연가스 가격', '유연탄 가격', '철광석 가격', '구리 가격',\n",
        "            '알루미늄 가격', '니켈 가격', '아연 가격', '금 가격', '대두 가격', '외국인 투자 금액',\n",
        "            '옥수수 가격', '소맥 가격', '원당 가격', '원면 가격',\n",
        "            '한국 경상수지', '한국 인플레이션율', '인플레이션 격차',\n",
        "            'M2', '실질GDP성장률', 'vix']"
      ],
      "metadata": {
        "id": "c1qhDagI5Tep"
      },
      "execution_count": 5,
      "outputs": []
    },
    {
      "cell_type": "markdown",
      "source": [
        "- DJ Twenty → 제일 성능이 좋았던 변수 (이론적 근거 필요)"
      ],
      "metadata": {
        "id": "rud4t7W35WYW"
      }
    },
    {
      "cell_type": "code",
      "source": [
        "# # 변수 정의\n",
        "# features = [\n",
        "#     '경제 심리 지수', '한국 외환 보유액', '한국 실업률', '미국 주가지수',\n",
        "#     'WTI 유가', '두바이 유가', 'Brent 유가', '천연가스 가격',\n",
        "#     '유연탄 가격', '구리 가격', '알루미늄 가격', '니켈 가격',\n",
        "#     '아연 가격', '금 가격', '한국 상품수지', '한국 인플레이션율',\n",
        "#     '실질GDP', '실질GDP성장률', 'vix', '외국인 투자 금액'\n",
        "# ]"
      ],
      "metadata": {
        "id": "Oxi7L7fe5YP1"
      },
      "execution_count": 6,
      "outputs": []
    },
    {
      "cell_type": "code",
      "source": [
        "target = ['원/달러환율']\n",
        "\n",
        "# 1. 다음 달 환율을 타깃으로 shift해서 컬럼 생성\n",
        "df['원/달러환율_t+1'] = df['원/달러환율'].shift(-1)\n",
        "\n",
        "# 2. target 변수로 지정\n",
        "target = ['원/달러환율_t+1']"
      ],
      "metadata": {
        "id": "Xihlbc6N4-w3"
      },
      "execution_count": 7,
      "outputs": []
    },
    {
      "cell_type": "markdown",
      "source": [
        "- 결측치 채우기"
      ],
      "metadata": {
        "id": "wwP3cSIR5xWr"
      }
    },
    {
      "cell_type": "code",
      "source": [
        "df_filled = df.interpolate(method='linear')\n",
        "df_filled = df_filled.fillna(method='ffill').fillna(method='bfill')"
      ],
      "metadata": {
        "colab": {
          "base_uri": "https://localhost:8080/"
        },
        "id": "fxOS-8O35wr-",
        "outputId": "1aaf4980-4ede-4776-ff62-013ae36d7617"
      },
      "execution_count": 8,
      "outputs": [
        {
          "output_type": "stream",
          "name": "stderr",
          "text": [
            "<ipython-input-8-76dd81b09891>:1: FutureWarning: DataFrame.interpolate with object dtype is deprecated and will raise in a future version. Call obj.infer_objects(copy=False) before interpolating instead.\n",
            "  df_filled = df.interpolate(method='linear')\n",
            "<ipython-input-8-76dd81b09891>:2: FutureWarning: DataFrame.fillna with 'method' is deprecated and will raise in a future version. Use obj.ffill() or obj.bfill() instead.\n",
            "  df_filled = df_filled.fillna(method='ffill').fillna(method='bfill')\n"
          ]
        }
      ]
    },
    {
      "cell_type": "markdown",
      "source": [
        "- 다중공선성 확인 (vif<20)"
      ],
      "metadata": {
        "id": "x7A8I2c--5Tv"
      }
    },
    {
      "cell_type": "code",
      "source": [
        "import pandas as pd\n",
        "from statsmodels.stats.outliers_influence import variance_inflation_factor\n",
        "\n",
        "# 1. 피처셋 정의\n",
        "X = df_filled[features].copy()\n",
        "\n",
        "# 2. VIF 반복 제거 함수 정의\n",
        "def calculate_vif(df, thresh=20.0):\n",
        "    variables = df.columns.tolist()\n",
        "    while True:\n",
        "        vif = pd.Series(\n",
        "            [variance_inflation_factor(df[variables].values, i) for i in range(len(variables))],\n",
        "            index=variables\n",
        "        )\n",
        "        max_vif = vif.max()\n",
        "        if max_vif > thresh:\n",
        "            drop_feature = vif.idxmax()\n",
        "            print(f\"Removing '{drop_feature}' with VIF={max_vif:.2f}\")\n",
        "            variables.remove(drop_feature)\n",
        "        else:\n",
        "            break\n",
        "    return df[variables]\n",
        "\n",
        "# 3. 다중공선성 제거된 X 반환\n",
        "X_vif = calculate_vif(X, thresh=20.0)"
      ],
      "metadata": {
        "colab": {
          "base_uri": "https://localhost:8080/"
        },
        "id": "2W6_Erxk9ySM",
        "outputId": "3bcc15e0-eccd-441d-e62c-06360b647954"
      },
      "execution_count": 9,
      "outputs": [
        {
          "output_type": "stream",
          "name": "stdout",
          "text": [
            "Removing '두바이 유가' with VIF=2646.45\n",
            "Removing '한국 외환 보유액' with VIF=545.53\n",
            "Removing 'WTI 유가' with VIF=470.11\n",
            "Removing '알루미늄 가격' with VIF=274.43\n",
            "Removing '실질GDP' with VIF=242.71\n",
            "Removing '경제 심리 지수' with VIF=152.13\n",
            "Removing '구리 가격' with VIF=143.96\n",
            "Removing '미국 주가지수' with VIF=76.47\n",
            "Removing '아연 가격' with VIF=36.78\n",
            "Removing '금 가격' with VIF=31.66\n",
            "Removing '한국 실업률' with VIF=30.32\n"
          ]
        }
      ]
    },
    {
      "cell_type": "code",
      "source": [
        "X_vif.columns # 다중공선성 vif < 20"
      ],
      "metadata": {
        "colab": {
          "base_uri": "https://localhost:8080/"
        },
        "id": "J4B-yrqP-KKF",
        "outputId": "ae7c1b71-b9c7-4280-a0cd-89c408ae3858"
      },
      "execution_count": 10,
      "outputs": [
        {
          "output_type": "execute_result",
          "data": {
            "text/plain": [
              "Index(['Brent 유가', '천연가스 가격', '유연탄 가격', '니켈 가격', '한국 상품수지', '한국 인플레이션율',\n",
              "       '실질GDP성장률', 'vix', '외국인 투자 금액'],\n",
              "      dtype='object')"
            ]
          },
          "metadata": {},
          "execution_count": 10
        }
      ]
    },
    {
      "cell_type": "markdown",
      "source": [
        "이 11개 피처를 대상으로 다음 세 가지 피처 선택 방법을 차례대로 진행하겠습니다:\n",
        "\n",
        "- 전진 선택법 (Forward Selection)\n",
        "\n",
        "- 후진 제거법 (Backward Elimination)\n",
        "\n",
        "- 단계 선택법 (Stepwise Selection)\n",
        "\n"
      ],
      "metadata": {
        "id": "QCI-BR8K-un8"
      }
    },
    {
      "cell_type": "code",
      "source": [
        "from sklearn.linear_model import LinearRegression\n",
        "from sklearn.feature_selection import SequentialFeatureSelector\n",
        "from mlxtend.feature_selection import SequentialFeatureSelector as SFS\n",
        "from sklearn.model_selection import train_test_split\n",
        "\n",
        "# 타깃 정의\n",
        "y = df_filled[target].values.flatten()\n",
        "\n",
        "# 피처셋 정의\n",
        "X_for_select = X_vif.copy()\n",
        "\n",
        "# 훈련/검증용 분할 (shuffle=False, 시계열이므로)\n",
        "X_train_sel, X_val_sel, y_train_sel, y_val_sel = train_test_split(\n",
        "    X_for_select, y, test_size=0.2, shuffle=False\n",
        ")"
      ],
      "metadata": {
        "id": "ORwVYcSu_BuU"
      },
      "execution_count": 11,
      "outputs": []
    },
    {
      "cell_type": "markdown",
      "source": [
        "- 전진선택법"
      ],
      "metadata": {
        "id": "EYxeMI5P_J97"
      }
    },
    {
      "cell_type": "code",
      "source": [
        "from sklearn.linear_model import LinearRegression\n",
        "from sklearn.feature_selection import SequentialFeatureSelector\n",
        "\n",
        "# 베이스 모델: 선형회귀 (GRU용 피처선택이므로 복잡도 낮은 모델 사용)\n",
        "model = LinearRegression()\n",
        "\n",
        "# 전진 선택법\n",
        "sfs_forward = SequentialFeatureSelector(\n",
        "    model,\n",
        "    n_features_to_select=\"auto\",  # 자동 선택 (교차검증 기반 최적 피처 수)\n",
        "    direction=\"forward\",\n",
        "    cv=5,\n",
        "    scoring='neg_mean_squared_error',  # 최소 MSE 기준\n",
        "    n_jobs=-1\n",
        ")\n",
        "\n",
        "# 학습\n",
        "sfs_forward.fit(X_train_sel, y_train_sel)\n",
        "\n",
        "# 선택된 피처\n",
        "selected_forward_features = X_for_select.columns[sfs_forward.get_support()].tolist()\n",
        "print(\"✅ 전진 선택법 결과:\")\n",
        "print(selected_forward_features)"
      ],
      "metadata": {
        "colab": {
          "base_uri": "https://localhost:8080/"
        },
        "id": "6UH-gEBc_K39",
        "outputId": "6f16b23f-bf0e-4b21-ba3b-096c8432facc"
      },
      "execution_count": 12,
      "outputs": [
        {
          "output_type": "stream",
          "name": "stdout",
          "text": [
            "✅ 전진 선택법 결과:\n",
            "['천연가스 가격', '니켈 가격', '한국 인플레이션율', 'vix']\n"
          ]
        }
      ]
    },
    {
      "cell_type": "markdown",
      "source": [
        "- 후진제거법"
      ],
      "metadata": {
        "id": "eM0KSTVL_djB"
      }
    },
    {
      "cell_type": "code",
      "source": [
        "# 후진 제거법\n",
        "sfs_backward = SequentialFeatureSelector(\n",
        "    model,\n",
        "    n_features_to_select=\"auto\",  # 교차검증 기반 최적 피처 수\n",
        "    direction=\"backward\",\n",
        "    cv=5,\n",
        "    scoring='neg_mean_squared_error',\n",
        "    n_jobs=-1\n",
        ")\n",
        "\n",
        "# 학습\n",
        "sfs_backward.fit(X_train_sel, y_train_sel)\n",
        "\n",
        "# 선택된 피처\n",
        "selected_backward_features = X_for_select.columns[sfs_backward.get_support()].tolist()\n",
        "print(\"✅ 후진 제거법 결과:\")\n",
        "print(selected_backward_features)"
      ],
      "metadata": {
        "colab": {
          "base_uri": "https://localhost:8080/"
        },
        "id": "Wt1VtQ1k_eY5",
        "outputId": "65f83339-adea-46b9-e2a1-3aa9b6859375"
      },
      "execution_count": 13,
      "outputs": [
        {
          "output_type": "stream",
          "name": "stdout",
          "text": [
            "✅ 후진 제거법 결과:\n",
            "['천연가스 가격', '니켈 가격', '한국 인플레이션율', '실질GDP성장률', 'vix']\n"
          ]
        }
      ]
    },
    {
      "cell_type": "markdown",
      "source": [
        "- 단계선택법"
      ],
      "metadata": {
        "id": "i8bVwnfl_j0W"
      }
    },
    {
      "cell_type": "code",
      "source": [
        "from mlxtend.feature_selection import SequentialFeatureSelector as SFS\n",
        "from sklearn.linear_model import LinearRegression\n",
        "\n",
        "# 베이스 모델\n",
        "model = LinearRegression()\n",
        "\n",
        "# 단계 선택법 (전진 + 후진)\n",
        "sfs_stepwise = SFS(\n",
        "    estimator=model,\n",
        "    k_features='best',          # 최적 피처 수\n",
        "    forward=True,               # 전진 선택\n",
        "    floating=True,              # 후진 제거 허용 (SFFS 방식)\n",
        "    scoring='neg_mean_squared_error',\n",
        "    cv=5,\n",
        "    n_jobs=-1\n",
        ")\n",
        "\n",
        "# X_train_sel을 DataFrame으로 넘기기 (columns 유지됨)\n",
        "sfs_stepwise.fit(X_train_sel, y_train_sel)\n",
        "\n",
        "# 선택된 피처 이름 추출\n",
        "selected_stepwise_features = list(sfs_stepwise.k_feature_names_)\n",
        "print(\"✅ 단계 선택법 결과:\")\n",
        "print(selected_stepwise_features)"
      ],
      "metadata": {
        "colab": {
          "base_uri": "https://localhost:8080/"
        },
        "id": "lTyFqVCY_km1",
        "outputId": "9e666539-3b21-4537-85df-9304eb14af28"
      },
      "execution_count": 14,
      "outputs": [
        {
          "output_type": "stream",
          "name": "stdout",
          "text": [
            "✅ 단계 선택법 결과:\n",
            "['천연가스 가격', '니켈 가격', '한국 인플레이션율', 'vix']\n"
          ]
        }
      ]
    },
    {
      "cell_type": "markdown",
      "source": [
        "## Train Test 분할"
      ],
      "metadata": {
        "id": "ye8Hr-p0FpYZ"
      }
    },
    {
      "cell_type": "code",
      "source": [
        "from sklearn.model_selection import train_test_split\n",
        "\n",
        "# 타깃 재정의\n",
        "y = df_filled[target].values.flatten()"
      ],
      "metadata": {
        "id": "3CmQYUsFFo2F"
      },
      "execution_count": 15,
      "outputs": []
    },
    {
      "cell_type": "markdown",
      "source": [
        "- 전진"
      ],
      "metadata": {
        "id": "kOt8EkoPGZU7"
      }
    },
    {
      "cell_type": "code",
      "source": [
        "X_forward = df_filled[selected_forward_features]\n",
        "X_train_fwd, X_test_fwd, y_train_fwd, y_test_fwd = train_test_split(\n",
        "    X_forward, y, test_size=0.2, shuffle=False\n",
        ")"
      ],
      "metadata": {
        "id": "nn8LRkxSGdub"
      },
      "execution_count": 16,
      "outputs": []
    },
    {
      "cell_type": "markdown",
      "source": [
        "- 후진"
      ],
      "metadata": {
        "id": "uN8GcoDHGVKy"
      }
    },
    {
      "cell_type": "code",
      "source": [
        "X_backward = df_filled[selected_backward_features]\n",
        "X_train_bwd, X_test_bwd, y_train_bwd, y_test_bwd = train_test_split(\n",
        "    X_backward, y, test_size=0.2, shuffle=False\n",
        ")"
      ],
      "metadata": {
        "id": "h_caHL2EGh3i"
      },
      "execution_count": 17,
      "outputs": []
    },
    {
      "cell_type": "markdown",
      "source": [
        "- 단계"
      ],
      "metadata": {
        "id": "ux10f1oWGb49"
      }
    },
    {
      "cell_type": "code",
      "source": [
        "X_stepwise = df_filled[selected_stepwise_features]\n",
        "X_train_stp, X_test_stp, y_train_stp, y_test_stp = train_test_split(\n",
        "    X_stepwise, y, test_size=0.2, shuffle=False\n",
        ")"
      ],
      "metadata": {
        "id": "CH3jpkYyGj7C"
      },
      "execution_count": 18,
      "outputs": []
    },
    {
      "cell_type": "markdown",
      "source": [
        "## 정규화 (MinMaxScaler)"
      ],
      "metadata": {
        "id": "4WKFljxuGzf7"
      }
    },
    {
      "cell_type": "code",
      "source": [
        "from sklearn.preprocessing import MinMaxScaler\n",
        "\n",
        "# 결과 저장할 dict\n",
        "scalers = {}\n",
        "X_train_scaled = {}\n",
        "X_test_scaled = {}\n",
        "\n",
        "# 함수로 구성\n",
        "def scale_with_minmax(name, X_train, X_test):\n",
        "    scaler = MinMaxScaler()\n",
        "    X_train_scaled[name] = scaler.fit_transform(X_train)\n",
        "    X_test_scaled[name] = scaler.transform(X_test)\n",
        "    scalers[name] = scaler\n",
        "\n",
        "# 전진 선택 피처셋\n",
        "scale_with_minmax('forward', X_train_fwd, X_test_fwd)\n",
        "\n",
        "# 후진 제거 피처셋\n",
        "scale_with_minmax('backward', X_train_bwd, X_test_bwd)\n",
        "\n",
        "# 단계 선택 피처셋\n",
        "scale_with_minmax('stepwise', X_train_stp, X_test_stp)"
      ],
      "metadata": {
        "id": "vrax3A7gG3pj"
      },
      "execution_count": 19,
      "outputs": []
    },
    {
      "cell_type": "markdown",
      "source": [
        "-> 다음과 같이 저장됨\n",
        "\n",
        "X_train_scaled['forward'], X_test_scaled['forward']\n",
        "\n",
        "X_train_scaled['backward'], X_test_scaled['backward']\n",
        "\n",
        "X_train_scaled['stepwise'], X_test_scaled['stepwise']"
      ],
      "metadata": {
        "id": "AfrdxG63HMKl"
      }
    },
    {
      "cell_type": "markdown",
      "source": [
        "- 타겟 정규화"
      ],
      "metadata": {
        "id": "SDY1tH3OIcTw"
      }
    },
    {
      "cell_type": "code",
      "source": [
        "# 새로운 MinMaxScaler로 타깃 정규화\n",
        "target_scaler = MinMaxScaler()\n",
        "y_train_scaled = target_scaler.fit_transform(y_train_fwd.reshape(-1, 1))\n",
        "y_test_scaled = target_scaler.transform(y_test_fwd.reshape(-1, 1))"
      ],
      "metadata": {
        "id": "M3b6Vk8zIbq2"
      },
      "execution_count": 20,
      "outputs": []
    },
    {
      "cell_type": "markdown",
      "source": [
        "## GRU 모델 학습"
      ],
      "metadata": {
        "id": "JXSvcLq1HW04"
      }
    },
    {
      "cell_type": "code",
      "source": [
        "import numpy as np\n",
        "# 전처리: 입력 차원 맞추기\n",
        "def reshape_for_gru(X):\n",
        "    return np.reshape(X, (X.shape[0], 1, X.shape[1]))  # (samples, timesteps=1, features)"
      ],
      "metadata": {
        "id": "i8oa4cYPHYtc"
      },
      "execution_count": 21,
      "outputs": []
    },
    {
      "cell_type": "code",
      "source": [
        "from tensorflow.keras.models import Sequential\n",
        "from tensorflow.keras.layers import GRU, Dense\n",
        "from tensorflow.keras.callbacks import EarlyStopping\n",
        "from sklearn.preprocessing import MinMaxScaler\n",
        "from sklearn.metrics import mean_squared_error, mean_absolute_error, r2_score\n",
        "import numpy as np\n",
        "\n",
        "set_seed(42)\n",
        "\n",
        "# reshape for GRU\n",
        "def reshape_for_gru(X):\n",
        "    return np.reshape(X, (X.shape[0], 1, X.shape[1]))\n",
        "\n",
        "# GRU 학습 및 평가 함수\n",
        "def train_and_evaluate_gru(name, X_train_raw, X_test_raw, y_train, y_test):\n",
        "    print(f\"\\n✅ [{name.upper()}] GRU 모델 학습 시작\")\n",
        "\n",
        "    # 타깃 정규화\n",
        "    y_scaler = MinMaxScaler()\n",
        "    y_train_scaled = y_scaler.fit_transform(y_train.reshape(-1, 1))\n",
        "    y_test_scaled = y_scaler.transform(y_test.reshape(-1, 1))\n",
        "\n",
        "    # 입력 reshape\n",
        "    X_train = reshape_for_gru(X_train_raw)\n",
        "    X_test = reshape_for_gru(X_test_raw)\n",
        "\n",
        "    # 모델 정의\n",
        "    model = Sequential([\n",
        "        GRU(32, input_shape=(X_train.shape[1], X_train.shape[2])),\n",
        "        Dense(1)\n",
        "    ])\n",
        "    model.compile(optimizer='adam', loss='mse', metrics=['mae'])\n",
        "\n",
        "    early_stop = EarlyStopping(monitor='val_loss', patience=10, restore_best_weights=True)\n",
        "\n",
        "    # 학습\n",
        "    model.fit(\n",
        "        X_train, y_train_scaled,\n",
        "        validation_split=0.2,\n",
        "        epochs=100,\n",
        "        batch_size=16,\n",
        "        callbacks=[early_stop],\n",
        "        verbose=0  # 로그 생략\n",
        "    )\n",
        "\n",
        "    # 예측 → 역변환\n",
        "    y_pred_scaled = model.predict(X_test)\n",
        "    y_pred = y_scaler.inverse_transform(y_pred_scaled)\n",
        "\n",
        "    # 성능 평가\n",
        "    rmse = np.sqrt(mean_squared_error(y_test, y_pred))\n",
        "    mae = mean_absolute_error(y_test, y_pred)\n",
        "    r2 = r2_score(y_test, y_pred)\n",
        "\n",
        "    print(f\"RMSE: {rmse:.4f} | MAE: {mae:.4f} | R²: {r2:.4f}\")\n",
        "    return rmse, mae, r2"
      ],
      "metadata": {
        "id": "vQeRI5wJIzzd"
      },
      "execution_count": 22,
      "outputs": []
    },
    {
      "cell_type": "code",
      "source": [
        "# 전진 선택\n",
        "train_and_evaluate_gru('forward', X_train_scaled['forward'], X_test_scaled['forward'], y_train_fwd, y_test_fwd)\n",
        "\n",
        "# 후진 제거\n",
        "train_and_evaluate_gru('backward', X_train_scaled['backward'], X_test_scaled['backward'], y_train_bwd, y_test_bwd)\n",
        "\n",
        "# 단계 선택\n",
        "train_and_evaluate_gru('stepwise', X_train_scaled['stepwise'], X_test_scaled['stepwise'], y_train_stp, y_test_stp)"
      ],
      "metadata": {
        "colab": {
          "base_uri": "https://localhost:8080/"
        },
        "id": "Kj6PONTwI3Dw",
        "outputId": "4a528b13-6b6b-4e0f-d526-a6a1b87b458f"
      },
      "execution_count": 23,
      "outputs": [
        {
          "output_type": "stream",
          "name": "stdout",
          "text": [
            "\n",
            "✅ [FORWARD] GRU 모델 학습 시작\n"
          ]
        },
        {
          "output_type": "stream",
          "name": "stderr",
          "text": [
            "/usr/local/lib/python3.11/dist-packages/keras/src/layers/rnn/rnn.py:200: UserWarning: Do not pass an `input_shape`/`input_dim` argument to a layer. When using Sequential models, prefer using an `Input(shape)` object as the first layer in the model instead.\n",
            "  super().__init__(**kwargs)\n"
          ]
        },
        {
          "output_type": "stream",
          "name": "stdout",
          "text": [
            "\u001b[1m2/2\u001b[0m \u001b[32m━━━━━━━━━━━━━━━━━━━━\u001b[0m\u001b[37m\u001b[0m \u001b[1m0s\u001b[0m 219ms/step\n",
            "RMSE: 178.6074 | MAE: 149.3840 | R²: -2.5427\n",
            "\n",
            "✅ [BACKWARD] GRU 모델 학습 시작\n"
          ]
        },
        {
          "output_type": "stream",
          "name": "stderr",
          "text": [
            "/usr/local/lib/python3.11/dist-packages/keras/src/layers/rnn/rnn.py:200: UserWarning: Do not pass an `input_shape`/`input_dim` argument to a layer. When using Sequential models, prefer using an `Input(shape)` object as the first layer in the model instead.\n",
            "  super().__init__(**kwargs)\n"
          ]
        },
        {
          "output_type": "stream",
          "name": "stdout",
          "text": [
            "\u001b[1m2/2\u001b[0m \u001b[32m━━━━━━━━━━━━━━━━━━━━\u001b[0m\u001b[37m\u001b[0m \u001b[1m0s\u001b[0m 218ms/step\n",
            "RMSE: 184.6392 | MAE: 155.3789 | R²: -2.7860\n",
            "\n",
            "✅ [STEPWISE] GRU 모델 학습 시작\n"
          ]
        },
        {
          "output_type": "stream",
          "name": "stderr",
          "text": [
            "/usr/local/lib/python3.11/dist-packages/keras/src/layers/rnn/rnn.py:200: UserWarning: Do not pass an `input_shape`/`input_dim` argument to a layer. When using Sequential models, prefer using an `Input(shape)` object as the first layer in the model instead.\n",
            "  super().__init__(**kwargs)\n",
            "WARNING:tensorflow:5 out of the last 5 calls to <function TensorFlowTrainer.make_predict_function.<locals>.one_step_on_data_distributed at 0x7e36addd8360> triggered tf.function retracing. Tracing is expensive and the excessive number of tracings could be due to (1) creating @tf.function repeatedly in a loop, (2) passing tensors with different shapes, (3) passing Python objects instead of tensors. For (1), please define your @tf.function outside of the loop. For (2), @tf.function has reduce_retracing=True option that can avoid unnecessary retracing. For (3), please refer to https://www.tensorflow.org/guide/function#controlling_retracing and https://www.tensorflow.org/api_docs/python/tf/function for  more details.\n"
          ]
        },
        {
          "output_type": "stream",
          "name": "stdout",
          "text": [
            "\r\u001b[1m1/2\u001b[0m \u001b[32m━━━━━━━━━━\u001b[0m\u001b[37m━━━━━━━━━━\u001b[0m \u001b[1m0s\u001b[0m 222ms/step"
          ]
        },
        {
          "output_type": "stream",
          "name": "stderr",
          "text": [
            "WARNING:tensorflow:6 out of the last 6 calls to <function TensorFlowTrainer.make_predict_function.<locals>.one_step_on_data_distributed at 0x7e36addd8360> triggered tf.function retracing. Tracing is expensive and the excessive number of tracings could be due to (1) creating @tf.function repeatedly in a loop, (2) passing tensors with different shapes, (3) passing Python objects instead of tensors. For (1), please define your @tf.function outside of the loop. For (2), @tf.function has reduce_retracing=True option that can avoid unnecessary retracing. For (3), please refer to https://www.tensorflow.org/guide/function#controlling_retracing and https://www.tensorflow.org/api_docs/python/tf/function for  more details.\n"
          ]
        },
        {
          "output_type": "stream",
          "name": "stdout",
          "text": [
            "\u001b[1m2/2\u001b[0m \u001b[32m━━━━━━━━━━━━━━━━━━━━\u001b[0m\u001b[37m\u001b[0m \u001b[1m0s\u001b[0m 218ms/step\n",
            "RMSE: 179.5095 | MAE: 150.2763 | R²: -2.5786\n"
          ]
        },
        {
          "output_type": "execute_result",
          "data": {
            "text/plain": [
              "(np.float64(179.50954196073303), 150.2762694498698, -2.578585530182114)"
            ]
          },
          "metadata": {},
          "execution_count": 23
        }
      ]
    }
  ]
}